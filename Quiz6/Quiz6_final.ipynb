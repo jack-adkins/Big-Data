{
 "cells": [
  {
   "cell_type": "markdown",
   "metadata": {},
   "source": [
    "Part 1: Querying Users\n",
    "\n",
    "Using the instructions laid out in the README file, I opened two windows of a VM instance and executed the commands, having the output from the listener being stored in a .txt file. I then wrote the following python program to analyze the output file and for within each different sender, find the average number of times each of of its unique queries was output, for which I got the number 3.04. THis is pretty much the exact number I was expecting to see, since I let the program run for just over 3 minutes and each sender has 60 unique queries it can output, and it outputs at an avg of one query a second, so doing the math 3.04 is the exact average I would expect. "
   ]
  },
  {
   "cell_type": "code",
   "execution_count": null,
   "metadata": {},
   "outputs": [],
   "source": [
    "# Code to analyze the output for Part1\n",
    "from collections import defaultdict\n",
    "\n",
    "def average_query_repetitions(file_path):\n",
    "    sender_query_counts = defaultdict(lambda: defaultdict(int))\n",
    "    \n",
    "    with open(file_path, 'r') as file:\n",
    "        for line in file:\n",
    "            parts = line.split()\n",
    "            sender = parts[3]\n",
    "            query = parts[-1]\n",
    "            \n",
    "            sender_query_counts[sender][query] += 1\n",
    "    \n",
    "    for sender, queries in sender_query_counts.items():\n",
    "        total_repetitions = sum(queries.values())\n",
    "        unique_queries = len(queries)\n",
    "        average_repetitions = total_repetitions / unique_queries if unique_queries > 0 else 0\n",
    "        print(f\"{sender}: Average repetitions per query = {average_repetitions:.2f}\")\n",
    "\n",
    "# Printing the Average:\n",
    "average_query_repetitions(\"part1output.txt\")\n"
   ]
  },
  {
   "cell_type": "markdown",
   "metadata": {},
   "source": [
    "Part 2: Bloom Filter\n",
    "\n",
    "All the following deliverables for this section will be submitted in the .zip folder:\n",
    "\n",
    "- q6part2.py                The python code used to complete all the steps from reading in the bad words to encoding\n",
    "                            the base64 bit vector.\n",
    "- bit_vector_base64.txt     The text file containing the final bit vector\n",
    "- BloomFilter.py            The python code designed to run in spark that uses the previous two items to filter out bad words from\n",
    "                            the input stream, and output the clean version with bad words removed\n",
    "-code_explanation.mp4       The short video of me showing off the Bloom Filter in action\n"
   ]
  },
  {
   "cell_type": "markdown",
   "metadata": {},
   "source": [
    "Part 3: Counting Unique Users\n",
    "\n",
    "For this section I modified the read_stdin.py file so that it would implement a hyperloglog algorithm to do its job. I also progressively changed the inputs in click-feeder.py so that the n_senders value keep getting bigger and bigger, but the delay mean and delay standard deviation were made to keep getting smaller and smaller. Below is the python code used to generate the graph itself. SUbmitting in the .zip folder:\n",
    "\n",
    "- queries_over_time.png             Final Graph"
   ]
  },
  {
   "cell_type": "code",
   "execution_count": null,
   "metadata": {},
   "outputs": [],
   "source": [
    "import matplotlib.pyplot as plt\n",
    "\n",
    "def load_data(file_path):\n",
    "    elapsed_time = []\n",
    "    unique_users = []\n",
    "    with open(file_path, 'r') as file:\n",
    "        next(file)\n",
    "        for line in file:\n",
    "            time, users = line.strip().split(', ')\n",
    "            elapsed_time.append(int(time))\n",
    "            unique_users.append(int(users))\n",
    "    return elapsed_time, unique_users\n",
    "\n",
    "def plot_unique_users(file_path):\n",
    "    elapsed_time, unique_users = load_data(file_path)\n",
    "    \n",
    "    plt.figure(figsize=(10, 6))\n",
    "    plt.plot(elapsed_time, unique_users, marker='o', linestyle='-', markersize=5)\n",
    "    plt.title(\"Estimated Unique Users Over Time\")\n",
    "    plt.xlabel(\"Total Elapsed Time (s)\")\n",
    "    plt.ylabel(\"Estimated Unique Users\")\n",
    "    plt.grid(True)\n",
    "    plt.show()\n",
    "\n",
    "plot_unique_users(\"output_log.txt\")\n"
   ]
  }
 ],
 "metadata": {
  "language_info": {
   "name": "python"
  }
 },
 "nbformat": 4,
 "nbformat_minor": 2
}
